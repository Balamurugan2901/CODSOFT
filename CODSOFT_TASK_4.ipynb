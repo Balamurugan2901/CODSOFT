{
  "nbformat": 4,
  "nbformat_minor": 0,
  "metadata": {
    "colab": {
      "provenance": [],
      "authorship_tag": "ABX9TyOWVbxV7F0FcPFvVNNGRAtr",
      "include_colab_link": true
    },
    "kernelspec": {
      "name": "python3",
      "display_name": "Python 3"
    },
    "language_info": {
      "name": "python"
    }
  },
  "cells": [
    {
      "cell_type": "markdown",
      "metadata": {
        "id": "view-in-github",
        "colab_type": "text"
      },
      "source": [
        "<a href=\"https://colab.research.google.com/github/Balamurugan2901/CODSOFT/blob/main/CODSOFT_TASK_4.ipynb\" target=\"_parent\"><img src=\"https://colab.research.google.com/assets/colab-badge.svg\" alt=\"Open In Colab\"/></a>"
      ]
    },
    {
      "cell_type": "code",
      "source": [
        "pip install pandas numpy\n"
      ],
      "metadata": {
        "colab": {
          "base_uri": "https://localhost:8080/"
        },
        "id": "LSSA0HytWqSy",
        "outputId": "cd536610-d035-47b8-c734-9fc3a20e530b"
      },
      "execution_count": null,
      "outputs": [
        {
          "output_type": "stream",
          "name": "stdout",
          "text": [
            "Requirement already satisfied: pandas in /usr/local/lib/python3.10/dist-packages (1.5.3)\n",
            "Requirement already satisfied: numpy in /usr/local/lib/python3.10/dist-packages (1.23.5)\n",
            "Requirement already satisfied: python-dateutil>=2.8.1 in /usr/local/lib/python3.10/dist-packages (from pandas) (2.8.2)\n",
            "Requirement already satisfied: pytz>=2020.1 in /usr/local/lib/python3.10/dist-packages (from pandas) (2023.3.post1)\n",
            "Requirement already satisfied: six>=1.5 in /usr/local/lib/python3.10/dist-packages (from python-dateutil>=2.8.1->pandas) (1.16.0)\n"
          ]
        }
      ]
    },
    {
      "cell_type": "code",
      "source": [
        "import pandas as pd\n",
        "import numpy as np\n",
        "\n",
        "def load_movie_data():\n",
        "    movies = pd.read_csv('movies.csv')\n",
        "    ratings = pd.read_csv('ratings.csv')\n",
        "    return movies, ratings\n",
        "\n",
        "def create_user_movie_matrix(ratings):\n",
        "    user_movie_matrix = ratings.pivot_table(index='userId', columns='movieId', values='rating')\n",
        "    return user_movie_matrix\n",
        "\n",
        "def recommend_movies_collaborative(user_movie_matrix, user_id, num_recommendations=5):\n",
        "    user_ratings = user_movie_matrix.loc[user_id].dropna()\n",
        "    user_top_rated_movie = user_ratings.idxmax()\n",
        "    similar_movies = user_movie_matrix.corrwith(user_movie_matrix[user_top_rated_movie])\n",
        "    similar_movies = similar_movies.dropna()\n",
        "    similar_movies = similar_movies.sort_values(ascending=False)\n",
        "    recommendations = similar_movies.head(num_recommendations)\n",
        "    return recommendations\n",
        "\n",
        "def recommend_movies_content_based(movies, user_movie_matrix, user_id, num_recommendations=5):\n",
        "    user_ratings = user_movie_matrix.loc[user_id].dropna()\n",
        "    user_genres = movies[movies['movieId'].isin(user_ratings.index)]['genres']\n",
        "    user_genre_vector = user_genres.str.get_dummies(sep='|').sum()\n",
        "\n",
        "    movie_genres = movies.set_index('movieId')['genres']\n",
        "    similar_movies = (movie_genres.str.get_dummies(sep='|') * user_genre_vector).sum(axis=1)\n",
        "    similar_movies = similar_movies.sort_values(ascending=False)\n",
        "    recommendations = similar_movies.head(num_recommendations)\n",
        "    return recommendations\n",
        "\n",
        "if __name__ == \"__main__\":\n",
        "    movies, ratings = load_movie_data()\n",
        "    user_movie_matrix = create_user_movie_matrix(ratings)\n",
        "\n",
        "    user_id = 1\n",
        "    collaborative_recommendations = recommend_movies_collaborative(user_movie_matrix, user_id)\n",
        "    print(\"Collaborative Filtering Recommendations for User {}:\".format(user_id))\n",
        "    print(collaborative_recommendations)\n",
        "\n",
        "    content_based_recommendations = recommend_movies_content_based(movies, user_movie_matrix, user_id)\n",
        "    print(\"\\nContent-Based Filtering Recommendations for User {}:\".format(user_id))\n",
        "    print(content_based_recommendations)\n"
      ],
      "metadata": {
        "id": "PUsBXoJvX_JM"
      },
      "execution_count": null,
      "outputs": []
    }
  ]
}