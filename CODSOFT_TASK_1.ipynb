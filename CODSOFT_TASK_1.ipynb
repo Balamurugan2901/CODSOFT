{
  "nbformat": 4,
  "nbformat_minor": 0,
  "metadata": {
    "colab": {
      "provenance": [],
      "authorship_tag": "ABX9TyOXN2gMp0iiJ0wc0yD0XZty",
      "include_colab_link": true
    },
    "kernelspec": {
      "name": "python3",
      "display_name": "Python 3"
    },
    "language_info": {
      "name": "python"
    }
  },
  "cells": [
    {
      "cell_type": "markdown",
      "metadata": {
        "id": "view-in-github",
        "colab_type": "text"
      },
      "source": [
        "<a href=\"https://colab.research.google.com/github/Balamurugan2901/CODSOFT/blob/main/CODSOFT_TASK_1.ipynb\" target=\"_parent\"><img src=\"https://colab.research.google.com/assets/colab-badge.svg\" alt=\"Open In Colab\"/></a>"
      ]
    },
    {
      "cell_type": "code",
      "execution_count": null,
      "metadata": {
        "id": "w4Lei8NtUJMT"
      },
      "outputs": [],
      "source": [
        "import random\n",
        "\n",
        "# Define predefined rules and responses\n",
        "greetings = [\"hello\", \"hi\", \"hey\", \"greetings\"]\n",
        "goodbyes = [\"bye\", \"goodbye\", \"see you later\"]\n",
        "questions = [\n",
        "    \"how are you?\",\n",
        "    \"what's your name?\",\n",
        "    \"what's the weather today?\",\n",
        "    \"tell me a joke\",\n",
        "    \"what's the capital of France?\",\n",
        "]\n",
        "responses = {\n",
        "    \"hello\": \"Hello! How can I assist you?\",\n",
        "    \"hi\": \"Hi there! What can I do for you?\",\n",
        "    \"hey\": \"Hey! How can I help you today?\",\n",
        "    \"greetings\": \"Greetings! What's on your mind?\",\n",
        "    \"how are you?\": \"I'm just a computer program, but I'm here to help you.\",\n",
        "    \"what's your name?\": \"I'm a chatbot. You can call me ChatGPT.\",\n",
        "    \"what's the weather today?\": \"I'm sorry, I don't have access to real-time data. You can check a weather website or app for that information.\",\n",
        "    \"tell me a joke\": \"Why don't scientists trust atoms? Because they make up everything!\",\n",
        "    \"what's the capital of France?\": \"The capital of France is Paris.\",\n",
        "}\n",
        "\n",
        "# Main chatbot function\n",
        "def simple_chatbot(input_message):\n",
        "    input_message = input_message.lower()\n",
        "\n",
        "    if input_message in greetings:\n",
        "        response = random.choice(responses[input_message])\n",
        "    elif input_message in goodbyes:\n",
        "        response = random.choice(responses[input_message])\n",
        "    elif any(question in input_message for question in questions):\n",
        "        response = responses[questions[questions.index([q for q in questions if q in input_message][0])])]\n",
        "    else:\n",
        "        response = \"I'm sorry, I don't understand. Could you please rephrase your question?\"\n",
        "\n",
        "    return response\n",
        "\n",
        "# Chatbot loop\n",
        "while True:\n",
        "    user_input = input(\"You: \")\n",
        "    if user_input.lower() == \"exit\":\n",
        "        print(\"Chatbot: Goodbye!\")\n",
        "        break\n",
        "    response = simple_chatbot(user_input)\n",
        "    print(\"Chatbot:\", response)\n"
      ]
    }
  ]
}